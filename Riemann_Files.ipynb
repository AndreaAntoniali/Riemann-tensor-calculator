{
 "cells": [
  {
   "cell_type": "code",
   "execution_count": 1,
   "id": "b944d7e5",
   "metadata": {},
   "outputs": [],
   "source": [
    "import numpy as np #We import all our libraries\n",
    "import matplotlib\n",
    "import matplotlib.pyplot as plt\n",
    "from itertools import product\n",
    "from scipy import optimize # for fits\n",
    "\n",
    "from sympy import latex, symbols, sin, cos, pi, simplify, lambdify, Matrix\n",
    "\n",
    "%matplotlib inline\n",
    "rng = np.random.RandomState(0)\n",
    "from IPython.display import display, Math\n",
    "import torch\n",
    "import torch.autograd.functional as functional"
   ]
  },
  {
   "cell_type": "code",
   "execution_count": 2,
   "id": "12871fae",
   "metadata": {},
   "outputs": [],
   "source": [
    "def fgrad(inputs): #This function allow us to create the hessian by calling it later.\n",
    "    return torch.autograd.functional.jacobian(metric_tensor,inputs, create_graph=True)\n",
    "def christoffelderiv(coord1, coord2, deriv, alpha, beta): #It's the part of the Riemann tensor with the derivative of the Christoffel.\n",
    "    christoffelderiv = 0.5*((jacobinv_l[alpha][beta][deriv] * (jacob_l[alpha][coord1][coord2] + jacob_l[alpha][coord2][coord1] - jacob_l[coord1][coord2][alpha]))\\\n",
    "                                    + g_inv_l[alpha][beta] * (hessian_l[alpha][coord1][coord2][deriv] + hessian_l[alpha][coord2][coord1][deriv] - hessian_l[coord1][coord2][alpha][deriv]))\n",
    "    return christoffelderiv \n"
   ]
  },
  {
   "cell_type": "markdown",
   "id": "756453c5",
   "metadata": {},
   "source": [
    "## Metric tensor: 2D unit sphere\n",
    "\n",
    "Coordinates $x^\\alpha = (\\theta, \\phi)$.\n",
    "\n",
    "\\begin{equation}\n",
    "g_{\\mu\\nu} = \n",
    "\\begin{pmatrix}\n",
    "1 & 0 \\\\\n",
    "0 & \\sin^2 \\theta \\\\\n",
    "\\end{pmatrix}\n",
    "\\end{equation}"
   ]
  },
  {
   "cell_type": "code",
   "execution_count": 3,
   "id": "2c96fb01",
   "metadata": {},
   "outputs": [],
   "source": [
    "#We define a metric tensor. \n",
    "dim=2 #Tell the dimension.\n",
    "\n",
    "def metric_tensor(coordinate,*arg): #This function create the metric tensor, we need to put in a fonction to be able to\n",
    "                                    #calculate its derivatives with our jacobian later.\n",
    "    \"\"\"\n",
    "    Here, we have as arg for our function : \n",
    "    coordinates : (theta, phi) of a point \n",
    "    \"\"\"\n",
    "    theta=coordinate[0] \n",
    "    phi=coordinate[1]\n",
    "    tensor = torch.zeros(dim,dim)\n",
    "    tensor[0,0] = 1\n",
    "    tensor[1,1] = torch.pow(torch.sin(theta),2)\n",
    "    return tensor\n",
    "\n",
    "def inverse(coordinate, *arg): #Gives us the inverse of the metric_tensor.\n",
    "    theta=coordinate[0]\n",
    "    phi=coordinate[1]\n",
    "    tensor = torch.zeros(dim,dim)\n",
    "    tensor[0,0] = 1\n",
    "    tensor[1,1] = torch.pow(torch.sin(theta),2)\n",
    "    tensor = torch.inverse(tensor)\n",
    "    return tensor\n",
    "def christoffelproduct_liste(coord1, coord2, coord3): #This function gives us the product of two christoffels.\n",
    "        christoffelproduct = christoffel_l[beta][coord1][eta]*christoffel_l[eta][coord2][coord3]\n",
    "        return christoffelproduct"
   ]
  },
  {
   "cell_type": "code",
   "execution_count": 4,
   "id": "4efb8f99",
   "metadata": {},
   "outputs": [
    {
     "name": "stdout",
     "output_type": "stream",
     "text": [
      "theta,phi coordinates:  tensor([ 3., 15.])\n"
     ]
    }
   ],
   "source": [
    "#Let's set the initial coordinate to start with.  \n",
    "coord = torch.tensor([3., 15.],requires_grad=True)\n",
    "print(\"theta,phi coordinates: \",coord.data)"
   ]
  },
  {
   "cell_type": "markdown",
   "id": "e2ddba31",
   "metadata": {},
   "source": [
    "## Metric tensor: 4D flat space, spherical coordinates\n",
    "\n",
    "Coordinates $x^\\alpha = (ct, R, \\theta, \\phi)$.\n",
    "\n",
    "\\begin{equation}\n",
    "g_{\\mu\\nu} = \n",
    "\\begin{pmatrix}\n",
    "1 & 0 & 0 & 0  \\\\\n",
    "0 & -1 & 0 & 0 \\\\\n",
    "0 & 0 & -R^2 & 0 \\\\\n",
    "0 & 0 & 0 & -R^2 \\sin^2 \\theta \\\\\n",
    "\\end{pmatrix}\n",
    "\\end{equation}"
   ]
  },
  {
   "cell_type": "code",
   "execution_count": null,
   "id": "8058fda6",
   "metadata": {},
   "outputs": [],
   "source": [
    "#We define a metric tensor. \n",
    "dim=4 #Tell the dimension.\n",
    "\n",
    "def metric_tensor(coordinate,*arg): \n",
    "                                    #This function create the metric tensor, we need to put in a fonction to be able to\n",
    "                                    #calculate its derivatives with our jacobian later.\n",
    "    \"\"\"\n",
    "    Args: \n",
    "        coordinates (ct,r,theta,phi) of a point\n",
    "        arg: not used\n",
    "    \"\"\"\n",
    "    t=coordinate[0] # c=1\n",
    "    r=coordinate[1]\n",
    "    theta=coordinate[2]\n",
    "    phi=coordinate[3]\n",
    "    tensor = torch.zeros(dim,dim)\n",
    "    tensor[0,0] = 1\n",
    "    tensor[1,1] = -1\n",
    "    tensor[2,2] = -1 * torch.pow(r,2)\n",
    "    tensor[3,3] = -1 * torch.pow(r*torch.sin(theta),2)\n",
    "    return tensor\n",
    "\n",
    "def inverse(coordinate, *arg): #And the inverse of the metric tensor. \n",
    "    tensor = metric_tensor(coordinate, *arg)\n",
    "    tensor = torch.inverse(tensor)\n",
    "    return tensor"
   ]
  },
  {
   "cell_type": "code",
   "execution_count": null,
   "id": "66df97d9",
   "metadata": {},
   "outputs": [],
   "source": [
    "#Let's set the initial coordinate to start with.  \n",
    "coord = torch.tensor([0, 10, 30, 0.5],requires_grad=True)"
   ]
  },
  {
   "cell_type": "markdown",
   "id": "c3ad0085",
   "metadata": {},
   "source": [
    "## Metric tensor: Schwarzschid metric\n",
    "\n",
    "Coordinates $x^\\alpha = (ct, R, \\theta, \\phi)$.\n",
    "\n",
    "$$g_{\\mu\\nu} = \n",
    "\\begin{pmatrix}\n",
    "1 - \\frac{2GM}{Rc^2} & 0 & 0 & 0 \\\\\n",
    "0 & -\\left(1 - \\frac{2GM}{Rc^2}\\right)^{-1} & 0 & 0 \\\\\n",
    "0 & 0 & -R^2 & 0 \\\\\n",
    "0 & 0 & 0 & -R^2 \\sin^2 \\theta \\\\\n",
    "\\end{pmatrix}\n",
    "= \n",
    "\\begin{pmatrix}\n",
    "1 - \\frac{R_s}{R} & 0 & 0 & 0 \\\\\n",
    "0 & -\\left(1 - \\frac{R_s}{R}\\right)^{-1} & 0 & 0 \\\\\n",
    "0 & 0 & -R^2 & 0 \\\\\n",
    "0 & 0 & 0 & -R^2 \\sin^2 \\theta \\\\\n",
    "\\end{pmatrix}\n",
    "$$\n",
    "\n",
    "With $R_s = \\frac{2 G M}{c^2}$, Schwarzschild radius."
   ]
  },
  {
   "cell_type": "code",
   "execution_count": null,
   "id": "0cc9413f",
   "metadata": {},
   "outputs": [],
   "source": [
    "#We define a metric tensor. \n",
    "dim=4 #Tell the dimension.\n",
    "Rs = 1 #Here, we have arguments. Rs is the one argument of this metric tensor.\n",
    "def metric_tensor(coordinate,*arg):#This function create the metric tensor, we need to put in a fonction to be able to\n",
    "                                    #calculate its derivatives with our jacobian later.\n",
    "    \"\"\"\n",
    "    Args: \n",
    "        coordinates (ct,r,theta,phi) of a point\n",
    "        arg[0]: Rs, Schwarzschid radius\n",
    "    \"\"\"\n",
    "    t=coordinate[0] # c=1\n",
    "    r=coordinate[1]\n",
    "    theta=coordinate[2]\n",
    "    phi=coordinate[3]\n",
    "    #if (len(arg)>0):\n",
    "    #    Rs = arg[0] # Schwarzschid radius\n",
    "    tensor = torch.zeros(dim,dim)\n",
    "    tensor[0,0] = 1 - Rs/r\n",
    "    tensor[1,1] = -1 * torch.pow(1 - Rs/r,-1)\n",
    "    tensor[2,2] = -1 * torch.pow(r,2)\n",
    "    tensor[3,3] = -1 * torch.pow(r*torch.sin(theta),2)\n",
    "    return tensor\n",
    "\n",
    "def inverse(coordinate, *arg):\n",
    "    tensor = metric_tensor(coordinate, *arg)\n",
    "    tensor = torch.inverse(tensor)\n",
    "    return tensor"
   ]
  },
  {
   "cell_type": "code",
   "execution_count": null,
   "id": "b89c7b5e",
   "metadata": {},
   "outputs": [],
   "source": [
    "coord = torch.tensor([1,10,0.5,0.2],requires_grad=True)\n",
    "print(\"t,r,theta,phi coordinates: \",coord.data)"
   ]
  },
  {
   "cell_type": "code",
   "execution_count": null,
   "id": "d40b8c32",
   "metadata": {},
   "outputs": [],
   "source": [
    "#here, we calculate all that is needed to do the further calculations such as the Christofell and the jacobian.\n",
    "\n",
    "g = metric_tensor(coord)\n",
    "g_l = g.tolist() #We also convert it into a list.\n",
    "g_inv = torch.inverse(g)\n",
    "g_inv_l = g_inv.tolist()\n",
    "#We do all the preliminary calculations : \n",
    "jacob = functional.jacobian(metric_tensor,(coord)) #We take the jacobian of our metric tensor at the desirated coordinate\n",
    "jacob_l = jacob.tolist()\n",
    "jacobinv = functional.jacobian(inverse, (coord)) #And we take alsothe jacobian of the inverse metric tensor as we will need ti.\n",
    "jacobinv_l = jacobinv.tolist()\n",
    "hessian = torch.autograd.functional.jacobian(fgrad,(coord), create_graph=True) #fgrad here is the jacobian put in a function. \n",
    "#By doing the jacobian of the jacobian of the metric tensor at a given coordinate, one gets the hessian at those coordinates.\n",
    "hessian_l = hessian.tolist()\n",
    "\n"
   ]
  },
  {
   "cell_type": "code",
   "execution_count": 5,
   "id": "ff0e0a37",
   "metadata": {},
   "outputs": [
    {
     "name": "stdout",
     "output_type": "stream",
     "text": [
      "What distance do you want from the beginning? \n",
      " distance = 2\n",
      "x_ 0 = [3.0, 4.0, 5.0]\n",
      "x_ 1 = [15.0, 16.0, 17.0]\n"
     ]
    }
   ],
   "source": [
    "#We write down the coordinates\n",
    "distance = int(input('What distance do you want from the beginning? \\n distance = '))\n",
    "pas = 1 #The step done between each calculations. \n",
    "n = distance/pas\n",
    "n = int(n)\n",
    "coord_l = coord.tolist() #We convert it to list to better manipulate it. \n",
    "liste=[]\n",
    "for i in range(dim):\n",
    "    x = np.arange(coord_l[i], coord_l[i]+distance+pas, pas)\n",
    "    x_l = x.tolist()\n",
    "    liste.append(x_l)\n",
    "listetensor = torch.tensor(liste)\n",
    "\n",
    "#We write down our coordinates. \n",
    "f = open(\"coordinates.txt\", \"w\")\n",
    "for i in range(dim):\n",
    "    for j in range(n+1):\n",
    "        x = str(liste[i][j])\n",
    "        f.write(x + ',')\n",
    "    f.write('\\n')\n",
    "f.close() \n",
    "\n",
    "f = open(\"coordinates.txt\", \"r\")\n",
    "read_list = []\n",
    "i = 0\n",
    "for line in f:\n",
    "    read_list_str = line.split(',')\n",
    "    read_list_str.pop()\n",
    "    read_list_scalar = [float(x) for x in read_list_str]\n",
    "    read_list.append(read_list_scalar)\n",
    "    print(\"x_\",i,\"=\", read_list_scalar)\n",
    "    i=+1\n",
    "f.close() \n",
    "\n"
   ]
  },
  {
   "cell_type": "code",
   "execution_count": 6,
   "id": "0be48f9f",
   "metadata": {},
   "outputs": [
    {
     "name": "stdout",
     "output_type": "stream",
     "text": [
      "1.0000024587332064\n",
      "0.0\n",
      "0.0\n",
      "0.019914978040077358\n",
      "1.0000000048060222\n",
      "0.0\n",
      "0.0\n",
      "0.5727500452269982\n",
      "1.0000000042101966\n",
      "0.0\n",
      "0.0\n",
      "0.9195358071473692\n"
     ]
    }
   ],
   "source": [
    "#Writing new data\n",
    "actual_list = []\n",
    "christo_data = open(\"christo_data.txt\", \"w\") #We create the files for data.\n",
    "riemann_data = open(\"riemann_data.txt\", \"w\")\n",
    "ricci_data = open(\"ricci_data.txt\", \"w\")\n",
    "scalarcurvature_data = open(\"scalarcurvature_data.txt\", \"w\")\n",
    "for i in range(0,n+1): #What we do there is read the coordinates given before to create all the values corresponding.\n",
    "    for j in range(0, dim):\n",
    "        actual_list.append(read_list[j][i])\n",
    "    coord_ten = torch.tensor(actual_list)\n",
    "    g = metric_tensor(coord_ten) #Such as the metric tensor\n",
    "    g_l = g.tolist() \n",
    "    g_inv = torch.inverse(g)#Such as the inverse metric tensor\n",
    "    g_inv_l = g_inv.tolist()\n",
    "    #We do all the preliminary calculations : \n",
    "    jacob = functional.jacobian(metric_tensor,(coord_ten)) #We take the jacobian of our metric tensor at the desirated coordinate\n",
    "    jacob_l = jacob.tolist() \n",
    "    jacobinv = functional.jacobian(inverse, (coord_ten))\n",
    "    jacobinv_l = jacobinv.tolist()\n",
    "    hessian = torch.autograd.functional.jacobian(fgrad,(coord_ten), create_graph=True)\n",
    "    hessian_l = hessian.tolist()\n",
    "    \n",
    "    #Christoffel\n",
    "    christoffel = torch.zeros(dim,dim,dim)\n",
    "    for beta in range(0,dim):\n",
    "        for mu in range(0,dim):\n",
    "            for nu in range(0,dim):\n",
    "                cricri = 0\n",
    "                for alpha in range(0,dim): #Here the loop are done in respect the einstein summation convention.\n",
    "\n",
    "                    cricri += 0.5 * g_inv_l[alpha][beta] * (jacob_l[alpha][mu][nu] + jacob_l[alpha][nu][mu] - jacob_l[mu][nu][alpha])\n",
    "                christoffel[beta,mu,nu] = cricri\n",
    "            \n",
    "    christoffel_l = christoffel.tolist() #After having written down a list, we need to write down the data in our file.\n",
    "    for beta in range(0,dim):\n",
    "        for mu in range(0,dim):\n",
    "            for nu in range(0,dim):\n",
    "                x = str(christoffel_l[beta][mu][nu])\n",
    "                christo_data.write(x + ',')#We follow a simple \n",
    "            christo_data.write('_')\n",
    "        christo_data.write(':')\n",
    "    christo_data.write('\\n')\n",
    "#We follow a simple indice code to separate our data :  \n",
    "    #coord : \"/n\"                               \n",
    "        #beta : \":\"\n",
    "            #epsilon : \"/\"\n",
    "                # mu : \"_\"\n",
    "                    # nu : \",\"\n",
    "    #Riemann\n",
    "    riemann = torch.zeros(dim,dim,dim,dim)\n",
    "    riemann_l = riemann.tolist()\n",
    "    for beta in range(0,dim):\n",
    "        for epsilon in range(0,dim):\n",
    "            for mu in range(0,dim):\n",
    "                for nu in range(0,dim):\n",
    "                    riemannscalar = 0\n",
    "                    for alpha in range(0,dim): \n",
    "                        #Here as you can see, the riemann tensor is divided in the addition of those two functions\n",
    "                        riemannscalar += christoffelderiv(mu, epsilon, nu, alpha, beta)-christoffelderiv(mu, nu, epsilon, alpha, beta)\n",
    "                        #First the christoffel derivatives\n",
    "                    for eta in range(0,dim):\n",
    "                        #Then the christoffelproduct.\n",
    "                        riemannscalar += christoffelproduct_liste(nu, mu, epsilon) - christoffelproduct_liste(epsilon, mu, nu) \n",
    "                    riemann_l[beta][mu][nu][epsilon] = riemannscalar\n",
    "    #We write down the data for the riemann tensor.\n",
    "    for beta in range(0,dim):\n",
    "        for epsilon in range(0,dim):\n",
    "            for mu in range(0,dim):\n",
    "                for nu in range(0,dim):\n",
    "                    x = str(riemann_l[beta][mu][nu][epsilon])\n",
    "                    riemann_data.write(x + ',')\n",
    "                riemann_data.write('_')\n",
    "            riemann_data.write('/')\n",
    "        riemann_data.write(':')\n",
    "    riemann_data.write('\\n')\n",
    "    \n",
    "    #Ricci \n",
    "    ricci = torch.zeros(dim,dim)\n",
    "    ricci_l = ricci.tolist()\n",
    "    for mu in range(0, dim):\n",
    "        for nu in range(0, dim):\n",
    "            riccisca = 0\n",
    "            for alpha in range(0, dim):\n",
    "                riccisca += riemann_l[alpha][mu][alpha][nu]\n",
    "                ricci_l[mu][nu]= riccisca\n",
    "                \n",
    "    #We write down the data for the ricci tensor.\n",
    "    for mu in range(0,dim):\n",
    "        for nu in range(0,dim):\n",
    "            x = str(ricci_l[mu][nu])\n",
    "            print(x)\n",
    "            ricci_data.write(x + ',')\n",
    "        ricci_data.write('_')\n",
    "    ricci_data.write('\\n')\n",
    "    \n",
    "    #Scalar curvature\n",
    "    scalarcurvature = 0\n",
    "    for mu in range(dim):\n",
    "        for nu in range(dim):\n",
    "            scalarcurvature += g_inv_l[mu][nu]*ricci_l[mu][nu]  \n",
    "    x = str(scalarcurvature)\n",
    "    scalarcurvature_data.write(x + '\\n')\n",
    "    \n",
    "    actual_list.pop()\n",
    "    actual_list.pop()\n",
    "#We close our files.\n",
    "christo_data.close() \n",
    "riemann_data.close() \n",
    "ricci_data.close()\n",
    "scalarcurvature_data.close() "
   ]
  },
  {
   "cell_type": "code",
   "execution_count": 14,
   "id": "bc6f67ac",
   "metadata": {},
   "outputs": [
    {
     "name": "stdout",
     "output_type": "stream",
     "text": [
      "What do you want to read ? Choose a number : \n",
      " 1 : Christoffel_symbols \n",
      " 2 : Riemann_tensor \n",
      " 3 : Ricci_tensor \n",
      " 4 : Scalar_curvature 1\n",
      "[[0.0, 0.0], [0.0, 0.1397077441215515], [0.0, -7.01525354385376], [-7.01525354385376, 0.0]]\n",
      "[[0.0, 0.0], [0.0, 0.1397077441215515], [0.0, -7.01525354385376], [-7.01525354385376, 0.0], [0.0, 0.0], [0.0, -0.49467912316322327], [0.0, 0.8636911511421204], [0.8636911511421204, 0.0]]\n",
      "[[0.0, 0.0], [0.0, 0.1397077441215515], [0.0, -7.01525354385376], [-7.01525354385376, 0.0], [0.0, 0.0], [0.0, -0.49467912316322327], [0.0, 0.8636911511421204], [0.8636911511421204, 0.0], [0.0, 0.0], [0.0, 0.27201056480407715], [0.0, -0.2958129048347473], [-0.2958129048347473, 0.0]]\n"
     ]
    }
   ],
   "source": [
    "## Reading data \n",
    "#We follow a simple indice code to separate our data :  \n",
    "    #coord : \"/n\"                               \n",
    "        #beta : \":\"\n",
    "            #epsilon : \"/\"\n",
    "                # mu : \"_\"\n",
    "                    # nu : \",\"\n",
    "#Using it, we will be able to put anew in list our data, as it was when we wrote it down.\n",
    "def reader(): \n",
    "    choice = input(\"What do you want to read ? Choose a number : \\n 1 : Christoffel_symbols \\n 2 : Riemann_tensor \\n 3 : Ricci_tensor \\n 4 : Scalar_curvature \")\n",
    "    read_list = []\n",
    "    if choice =='1': \n",
    "        f = open(\"christo_data.txt\", \"r\")\n",
    "        #Christo\n",
    "        for line in f:\n",
    "            read_list_str = line.split(':')\n",
    "            read_list_str.pop()\n",
    "            for i in range(len(read_list_str)):\n",
    "                read_list_str[i] = read_list_str[i].split('_')\n",
    "            for i in read_list_str : #Here, i use a loop to suppress all the '' that are relics of the conversion.\n",
    "                for j in i: \n",
    "                    if j == '': \n",
    "                        i.remove(j)\n",
    "                for j in range(len(i)):\n",
    "                    i[j] =i[j].split(',')\n",
    "                for j in i:\n",
    "                    j.pop()\n",
    "                    read_list_scalar = [float(x) for x in j]\n",
    "                    read_list.append(read_list_scalar)\n",
    "            print(read_list)\n",
    "    elif choice =='2':\n",
    "        f = open(\"riemann_data.txt\", \"r\")\n",
    "        #Riemann\n",
    "        for line in f:\n",
    "            read_list_str = line.split(':')\n",
    "            read_list_str.pop()\n",
    "            for i in range(len(read_list_str)):\n",
    "                read_list_str[i] = read_list_str[i].split('/')\n",
    "            for i in read_list_str : #Here, i use a loop to suppress all the '' that are relics of the conversion.\n",
    "                for j in i: \n",
    "                    if j == '': \n",
    "                        i.remove(j)\n",
    "                for j in range(len(i)):\n",
    "                    i[j] =i[j].split('_')\n",
    "                for j in i:\n",
    "                    for h in range(len(j)):\n",
    "                        j[h] =j[h].split(',')\n",
    "                    j.pop()\n",
    "                    for h in j: \n",
    "                        h.pop()\n",
    "                        read_list_scalar = [float(x) for x in h]\n",
    "                        read_list.append(read_list_scalar)\n",
    "            print(read_list)\n",
    "    elif choice =='3':\n",
    "        f = open(\"ricci_data.txt\", \"r\")\n",
    "        #Ricci\n",
    "        for line in f:\n",
    "            read_list_str = line.split('_')\n",
    "            read_list_str.pop()\n",
    "            for i in range(len(read_list_str)):\n",
    "                read_list_str[i] = read_list_str[i].split(',')\n",
    "            for i in read_list_str : #Here, i use a loop to suppress all the '' that are relics of the conversion.\n",
    "                for j in i: \n",
    "                    if j == '':\n",
    "                        i.remove(j)\n",
    "                read_list_scalar = [float(x) for x in i]\n",
    "                read_list.append(read_list_scalar)\n",
    "        print(read_list)\n",
    "    elif choice == '4':\n",
    "        f = open(\"scalarcurvature_data.txt\", \"r\")\n",
    "        #scalar curvature\n",
    "        read_list = [float(x) for x in f]\n",
    "        print(read_list)\n",
    "    else : \n",
    "        print(\"That's not a number, try again :)\")\n",
    "    f.close() \n",
    "reader()"
   ]
  },
  {
   "cell_type": "code",
   "execution_count": 38,
   "id": "022f1dbd",
   "metadata": {
    "scrolled": false
   },
   "outputs": [
    {
     "name": "stdout",
     "output_type": "stream",
     "text": [
      "[3.0, 4.0, 5.0, 6.0, 7.0, 8.0, 9.0, 10.0, 11.0, 12.0, 13.0]\n",
      "[15.0, 16.0, 17.0, 18.0, 19.0, 20.0, 21.0, 22.0, 23.0, 24.0, 25.0]\n",
      "What do you want to display ? Choose a number : \n",
      " 1 : Christoffel_symbols \n",
      " 2 : Riemann_tensor \n",
      " 3 : Ricci_tensor \n",
      " 4 : Scalar_curvature \n",
      "2\n"
     ]
    },
    {
     "data": {
      "text/latex": [
       "$\\displaystyle R^{0}_{0 0 0} = 0.0$"
      ],
      "text/plain": [
       "<IPython.core.display.Math object>"
      ]
     },
     "metadata": {},
     "output_type": "display_data"
    },
    {
     "data": {
      "text/latex": [
       "$\\displaystyle R^{0}_{0 1 0} = 0.0$"
      ],
      "text/plain": [
       "<IPython.core.display.Math object>"
      ]
     },
     "metadata": {},
     "output_type": "display_data"
    },
    {
     "data": {
      "text/latex": [
       "$\\displaystyle R^{0}_{1 0 0} = 0.0$"
      ],
      "text/plain": [
       "<IPython.core.display.Math object>"
      ]
     },
     "metadata": {},
     "output_type": "display_data"
    },
    {
     "data": {
      "text/latex": [
       "$\\displaystyle R^{0}_{1 1 0} = -0.919535807147369$"
      ],
      "text/plain": [
       "<IPython.core.display.Math object>"
      ]
     },
     "metadata": {},
     "output_type": "display_data"
    },
    {
     "data": {
      "text/latex": [
       "$\\displaystyle R^{0}_{0 0 1} = 0.0$"
      ],
      "text/plain": [
       "<IPython.core.display.Math object>"
      ]
     },
     "metadata": {},
     "output_type": "display_data"
    },
    {
     "data": {
      "text/latex": [
       "$\\displaystyle R^{0}_{0 1 1} = 0.0$"
      ],
      "text/plain": [
       "<IPython.core.display.Math object>"
      ]
     },
     "metadata": {},
     "output_type": "display_data"
    },
    {
     "data": {
      "text/latex": [
       "$\\displaystyle R^{0}_{1 0 1} = 0.919535807147369$"
      ],
      "text/plain": [
       "<IPython.core.display.Math object>"
      ]
     },
     "metadata": {},
     "output_type": "display_data"
    },
    {
     "data": {
      "text/latex": [
       "$\\displaystyle R^{0}_{1 1 1} = 0.0$"
      ],
      "text/plain": [
       "<IPython.core.display.Math object>"
      ]
     },
     "metadata": {},
     "output_type": "display_data"
    },
    {
     "data": {
      "text/latex": [
       "$\\displaystyle R^{1}_{0 0 0} = 0.0$"
      ],
      "text/plain": [
       "<IPython.core.display.Math object>"
      ]
     },
     "metadata": {},
     "output_type": "display_data"
    },
    {
     "data": {
      "text/latex": [
       "$\\displaystyle R^{1}_{0 1 0} = 1.0000000042102$"
      ],
      "text/plain": [
       "<IPython.core.display.Math object>"
      ]
     },
     "metadata": {},
     "output_type": "display_data"
    },
    {
     "data": {
      "text/latex": [
       "$\\displaystyle R^{1}_{1 0 0} = 0.0$"
      ],
      "text/plain": [
       "<IPython.core.display.Math object>"
      ]
     },
     "metadata": {},
     "output_type": "display_data"
    },
    {
     "data": {
      "text/latex": [
       "$\\displaystyle R^{1}_{1 1 0} = 0.0$"
      ],
      "text/plain": [
       "<IPython.core.display.Math object>"
      ]
     },
     "metadata": {},
     "output_type": "display_data"
    },
    {
     "data": {
      "text/latex": [
       "$\\displaystyle R^{1}_{0 0 1} = -1.0000000042102$"
      ],
      "text/plain": [
       "<IPython.core.display.Math object>"
      ]
     },
     "metadata": {},
     "output_type": "display_data"
    },
    {
     "data": {
      "text/latex": [
       "$\\displaystyle R^{1}_{0 1 1} = 0.0$"
      ],
      "text/plain": [
       "<IPython.core.display.Math object>"
      ]
     },
     "metadata": {},
     "output_type": "display_data"
    },
    {
     "data": {
      "text/latex": [
       "$\\displaystyle R^{1}_{1 0 1} = 0.0$"
      ],
      "text/plain": [
       "<IPython.core.display.Math object>"
      ]
     },
     "metadata": {},
     "output_type": "display_data"
    },
    {
     "data": {
      "text/latex": [
       "$\\displaystyle R^{1}_{1 1 1} = 0.0$"
      ],
      "text/plain": [
       "<IPython.core.display.Math object>"
      ]
     },
     "metadata": {},
     "output_type": "display_data"
    },
    {
     "name": "stdout",
     "output_type": "stream",
     "text": [
      "Do you want to display an other value ? y/n\n"
     ]
    },
    {
     "ename": "KeyboardInterrupt",
     "evalue": "Interrupted by user",
     "output_type": "error",
     "traceback": [
      "\u001b[1;31m---------------------------------------------------------------------------\u001b[0m",
      "\u001b[1;31mKeyboardInterrupt\u001b[0m                         Traceback (most recent call last)",
      "\u001b[1;32m~\\AppData\\Local\\Temp/ipykernel_5184/1793279152.py\u001b[0m in \u001b[0;36m<module>\u001b[1;34m\u001b[0m\n\u001b[0;32m    148\u001b[0m         \u001b[1;32mif\u001b[0m \u001b[0mx\u001b[0m \u001b[1;33m==\u001b[0m \u001b[1;34m'n'\u001b[0m\u001b[1;33m:\u001b[0m\u001b[1;33m\u001b[0m\u001b[1;33m\u001b[0m\u001b[0m\n\u001b[0;32m    149\u001b[0m             \u001b[0mi\u001b[0m \u001b[1;33m+=\u001b[0m \u001b[1;36m1\u001b[0m\u001b[1;33m\u001b[0m\u001b[1;33m\u001b[0m\u001b[0m\n\u001b[1;32m--> 150\u001b[1;33m \u001b[0mRelat_calc_files\u001b[0m\u001b[1;33m(\u001b[0m\u001b[1;33m)\u001b[0m\u001b[1;33m\u001b[0m\u001b[1;33m\u001b[0m\u001b[0m\n\u001b[0m",
      "\u001b[1;32m~\\AppData\\Local\\Temp/ipykernel_5184/1793279152.py\u001b[0m in \u001b[0;36mRelat_calc_files\u001b[1;34m()\u001b[0m\n\u001b[0;32m    145\u001b[0m             \u001b[0mprint\u001b[0m\u001b[1;33m(\u001b[0m\u001b[1;34m\"Error : please choose a number between 1, 2, 3 and 4.\"\u001b[0m\u001b[1;33m)\u001b[0m\u001b[1;33m\u001b[0m\u001b[1;33m\u001b[0m\u001b[0m\n\u001b[0;32m    146\u001b[0m         \u001b[0mprint\u001b[0m\u001b[1;33m(\u001b[0m\u001b[1;34m\"Do you want to display an other value ? y/n\"\u001b[0m\u001b[1;33m)\u001b[0m\u001b[1;33m\u001b[0m\u001b[1;33m\u001b[0m\u001b[0m\n\u001b[1;32m--> 147\u001b[1;33m         \u001b[0mx\u001b[0m \u001b[1;33m=\u001b[0m \u001b[0minput\u001b[0m\u001b[1;33m(\u001b[0m\u001b[1;33m)\u001b[0m\u001b[1;33m\u001b[0m\u001b[1;33m\u001b[0m\u001b[0m\n\u001b[0m\u001b[0;32m    148\u001b[0m         \u001b[1;32mif\u001b[0m \u001b[0mx\u001b[0m \u001b[1;33m==\u001b[0m \u001b[1;34m'n'\u001b[0m\u001b[1;33m:\u001b[0m\u001b[1;33m\u001b[0m\u001b[1;33m\u001b[0m\u001b[0m\n\u001b[0;32m    149\u001b[0m             \u001b[0mi\u001b[0m \u001b[1;33m+=\u001b[0m \u001b[1;36m1\u001b[0m\u001b[1;33m\u001b[0m\u001b[1;33m\u001b[0m\u001b[0m\n",
      "\u001b[1;32m~\\anaconda3\\lib\\site-packages\\ipykernel\\kernelbase.py\u001b[0m in \u001b[0;36mraw_input\u001b[1;34m(self, prompt)\u001b[0m\n\u001b[0;32m   1004\u001b[0m                 \u001b[1;34m\"raw_input was called, but this frontend does not support input requests.\"\u001b[0m\u001b[1;33m\u001b[0m\u001b[1;33m\u001b[0m\u001b[0m\n\u001b[0;32m   1005\u001b[0m             )\n\u001b[1;32m-> 1006\u001b[1;33m         return self._input_request(\n\u001b[0m\u001b[0;32m   1007\u001b[0m             \u001b[0mstr\u001b[0m\u001b[1;33m(\u001b[0m\u001b[0mprompt\u001b[0m\u001b[1;33m)\u001b[0m\u001b[1;33m,\u001b[0m\u001b[1;33m\u001b[0m\u001b[1;33m\u001b[0m\u001b[0m\n\u001b[0;32m   1008\u001b[0m             \u001b[0mself\u001b[0m\u001b[1;33m.\u001b[0m\u001b[0m_parent_ident\u001b[0m\u001b[1;33m[\u001b[0m\u001b[1;34m\"shell\"\u001b[0m\u001b[1;33m]\u001b[0m\u001b[1;33m,\u001b[0m\u001b[1;33m\u001b[0m\u001b[1;33m\u001b[0m\u001b[0m\n",
      "\u001b[1;32m~\\anaconda3\\lib\\site-packages\\ipykernel\\kernelbase.py\u001b[0m in \u001b[0;36m_input_request\u001b[1;34m(self, prompt, ident, parent, password)\u001b[0m\n\u001b[0;32m   1049\u001b[0m             \u001b[1;32mexcept\u001b[0m \u001b[0mKeyboardInterrupt\u001b[0m\u001b[1;33m:\u001b[0m\u001b[1;33m\u001b[0m\u001b[1;33m\u001b[0m\u001b[0m\n\u001b[0;32m   1050\u001b[0m                 \u001b[1;31m# re-raise KeyboardInterrupt, to truncate traceback\u001b[0m\u001b[1;33m\u001b[0m\u001b[1;33m\u001b[0m\u001b[0m\n\u001b[1;32m-> 1051\u001b[1;33m                 \u001b[1;32mraise\u001b[0m \u001b[0mKeyboardInterrupt\u001b[0m\u001b[1;33m(\u001b[0m\u001b[1;34m\"Interrupted by user\"\u001b[0m\u001b[1;33m)\u001b[0m \u001b[1;32mfrom\u001b[0m \u001b[1;32mNone\u001b[0m\u001b[1;33m\u001b[0m\u001b[1;33m\u001b[0m\u001b[0m\n\u001b[0m\u001b[0;32m   1052\u001b[0m             \u001b[1;32mexcept\u001b[0m \u001b[0mException\u001b[0m\u001b[1;33m:\u001b[0m\u001b[1;33m\u001b[0m\u001b[1;33m\u001b[0m\u001b[0m\n\u001b[0;32m   1053\u001b[0m                 \u001b[0mself\u001b[0m\u001b[1;33m.\u001b[0m\u001b[0mlog\u001b[0m\u001b[1;33m.\u001b[0m\u001b[0mwarning\u001b[0m\u001b[1;33m(\u001b[0m\u001b[1;34m\"Invalid Message:\"\u001b[0m\u001b[1;33m,\u001b[0m \u001b[0mexc_info\u001b[0m\u001b[1;33m=\u001b[0m\u001b[1;32mTrue\u001b[0m\u001b[1;33m)\u001b[0m\u001b[1;33m\u001b[0m\u001b[1;33m\u001b[0m\u001b[0m\n",
      "\u001b[1;31mKeyboardInterrupt\u001b[0m: Interrupted by user"
     ]
    }
   ],
   "source": [
    "def Relat_calc_files():\n",
    "    distance = 10\n",
    "    pas = 1\n",
    "    n = distance/pas\n",
    "    n = int(n)\n",
    "    coord_l = coord.tolist()\n",
    "    liste=[]\n",
    "    for i in range(dim):\n",
    "        x = np.arange(coord_l[i], coord_l[i]+distance+pas, pas)\n",
    "        x_l = x.tolist()\n",
    "        liste.append(x_l)\n",
    "    listetensor = torch.tensor(liste)\n",
    "    \n",
    "    #We write down our coordinates. \n",
    "    f = open(\"coordinates.txt\", \"w\")\n",
    "    for i in range(dim):\n",
    "        for j in range(n+1):\n",
    "            x = str(liste[i][j])\n",
    "            f.write(x + ',')\n",
    "        f.write('\\n')\n",
    "    f.close() \n",
    "\n",
    "    f = open(\"coordinates.txt\", \"r\")\n",
    "\n",
    "    for line in f:\n",
    "        read_list_str = line.split(',')\n",
    "        read_list_str.pop()\n",
    "        read_list = [float(x) for x in read_list_str]\n",
    "        print(read_list)\n",
    "    f.close() \n",
    "\n",
    "\n",
    "    def christoffelproduct_liste(coord1, coord2, coord3):\n",
    "        christoffelproduct = christoffel_l[beta][coord1][eta]*christoffel_l[eta][coord2][coord3]\n",
    "        return christoffelproduct\n",
    "    # Initialize Christoffel\n",
    "    christoffel = torch.zeros(dim,dim,dim)\n",
    "    for beta in range(0,dim):\n",
    "        for mu in range(0,dim):\n",
    "            for nu in range(0,dim):\n",
    "                cricri = 0\n",
    "                for alpha in range(0,dim):\n",
    "\n",
    "                    cricri += 0.5 * g_inv_l[alpha][beta] * (jacob_l[alpha][mu][nu] + jacob_l[alpha][nu][mu] - jacob_l[mu][nu][alpha])\n",
    "                christoffel[beta,mu,nu] = cricri\n",
    "            \n",
    "    christoffel_l = christoffel.tolist()\n",
    "    christo_data = open(\"christo_data.txt\", \"w\")\n",
    "    for beta in range(0,dim):\n",
    "        for mu in range(0,dim):\n",
    "            for nu in range(0,dim):\n",
    "                x = str(christoffel_l[beta][mu][nu])\n",
    "                christo_data.write(x + ',')\n",
    "            christo_data.write(':')\n",
    "        christo_data.write('\\n')\n",
    "    christo_data.close() \n",
    "    # Initialize Riemannian tensor\n",
    "    riemann = torch.zeros(dim,dim,dim,dim)\n",
    "    riemann_l = riemann.tolist()\n",
    "    for beta in range(0,dim):\n",
    "        for epsilon in range(0,dim):\n",
    "            for mu in range(0,dim):\n",
    "                for nu in range(0,dim):\n",
    "                    riemannscalar = 0\n",
    "                    for alpha in range(0,dim):\n",
    "                        riemannscalar += christoffelderiv(mu, epsilon, nu, alpha, beta)-christoffelderiv(mu, nu, epsilon, alpha, beta)\n",
    "                    for eta in range(0,dim):\n",
    "                        riemannscalar += christoffelproduct_liste(nu, mu, epsilon) - christoffelproduct_liste(epsilon, mu, nu) \n",
    "                    riemann_l[beta][mu][nu][epsilon] = riemannscalar\n",
    "\n",
    "    riemann_data = open(\"riemann_data.txt\", \"w\")\n",
    "    for beta in range(0,dim):\n",
    "        for epsilon in range(0,dim):\n",
    "            for mu in range(0,dim):\n",
    "                for nu in range(0,dim):\n",
    "                    x = str(riemann_l[beta][mu][nu][epsilon])\n",
    "                    riemann_data.write(x + ',')\n",
    "                riemann_data.write(':')\n",
    "            riemann_data.write('/')\n",
    "        riemann_data.write('\\n')\n",
    "    riemann_data.close() \n",
    "    \n",
    "    \n",
    "    \n",
    "    #Initialize Ricci tensor\n",
    "    ricci = torch.zeros(dim,dim)\n",
    "    ricci_l = ricci.tolist()\n",
    "    for mu in range(0, dim):\n",
    "        for nu in range(0, dim):\n",
    "            riccisca = 0\n",
    "            for alpha in range(0, dim):\n",
    "                riccisca += riemann_l[alpha][mu][alpha][nu]\n",
    "                ricci_l[mu][nu]= riccisca\n",
    "                \n",
    "    ricci_data = open(\"ricci_data.txt\", \"w\")\n",
    "    for mu in range(0,dim):\n",
    "        for nu in range(0,dim):\n",
    "            x = str(ricci_l[mu][nu])\n",
    "            ricci_data.write(x + ',')\n",
    "        ricci_data.write('\\n')\n",
    "    ricci_data.close() \n",
    "    \n",
    "    \n",
    "    \n",
    "    #scalarcurvature \n",
    "    scalarcurvature = 0\n",
    "    for mu in range(dim):\n",
    "        for nu in range(dim):\n",
    "            scalarcurvature += g_inv_l[mu][nu]*ricci_l[mu][nu]  \n",
    "            \n",
    "    scalarcurvature_data = open(\"scalarcurvature_data.txt\", \"w\")\n",
    "    x = str(scalarcurvature)\n",
    "    scalarcurvature_data.write(x + ',')\n",
    "    scalarcurvature_data.close() \n",
    "    \n",
    "    \n",
    "    \n",
    "    \n",
    "    i = 0\n",
    "    while i < 1:\n",
    "        print(\"What do you want to display ? Choose a number : \\n 1 : Christoffel_symbols \\n 2 : Riemann_tensor \\n 3 : Ricci_tensor \\n 4 : Scalar_curvature \")\n",
    "        detail = input()\n",
    "        if detail== '1':\n",
    "            for beta in range(0,dim):\n",
    "                for mu in range(0,dim):\n",
    "                    for nu in range(0,dim):\n",
    "                        display(Math(f'\\Gamma^{{{beta}}}_{{{mu} {nu}}} = ' + latex(christoffel_l[beta][mu][nu])))\n",
    "        elif detail=='2':\n",
    "            for beta in range(0,dim):\n",
    "                for epsilon in range(0,dim):\n",
    "                    for mu in range(0,dim):\n",
    "                        for nu in range(0,dim):\n",
    "                            display(Math(f'R^{{{beta}}}_{{{mu} {nu} {epsilon}}} = ' + latex(riemann_l[beta][mu][nu][epsilon])))\n",
    "        elif detail=='3':\n",
    "            for mu in range(0, dim):\n",
    "                for nu in range(0, dim):\n",
    "                    display(Math(f'R_{{{mu} {nu}}} = ' + latex(ricci_l[mu][nu])))\n",
    "        elif detail=='4':\n",
    "            display(Math(f'R = ' + latex(scalarcurvature)))\n",
    "        else :\n",
    "            print(\"Error : please choose a number between 1, 2, 3 and 4.\")\n",
    "        print(\"Do you want to display an other value ? y/n\")\n",
    "        x = input()\n",
    "        if x == 'n':\n",
    "            i += 1\n",
    "Relat_calc_files()\n"
   ]
  },
  {
   "cell_type": "code",
   "execution_count": null,
   "id": "88e95641",
   "metadata": {},
   "outputs": [],
   "source": []
  },
  {
   "cell_type": "code",
   "execution_count": null,
   "id": "f18a1ec2",
   "metadata": {},
   "outputs": [],
   "source": []
  }
 ],
 "metadata": {
  "kernelspec": {
   "display_name": "Python 3 (ipykernel)",
   "language": "python",
   "name": "python3"
  },
  "language_info": {
   "codemirror_mode": {
    "name": "ipython",
    "version": 3
   },
   "file_extension": ".py",
   "mimetype": "text/x-python",
   "name": "python",
   "nbconvert_exporter": "python",
   "pygments_lexer": "ipython3",
   "version": "3.9.7"
  }
 },
 "nbformat": 4,
 "nbformat_minor": 5
}
